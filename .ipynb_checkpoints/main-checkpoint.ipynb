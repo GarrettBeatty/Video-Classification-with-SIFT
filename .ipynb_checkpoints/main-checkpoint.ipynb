{
 "cells": [
  {
   "cell_type": "code",
   "execution_count": 1,
   "metadata": {
    "collapsed": false
   },
   "outputs": [
    {
     "name": "stderr",
     "output_type": "stream",
     "text": [
      "/home/gbt/Github/Violence Detection/skvideo/__init__.py:356: UserWarning: avconv/avprobe not found in path: \n",
      "  warnings.warn(\"avconv/avprobe not found in path: \" + str(path), UserWarning)\n"
     ]
    }
   ],
   "source": [
    "from sklearn.svm import LinearSVC\n",
    "from sklearn.neighbors import KNeighborsClassifier\n",
    "from sklearn.model_selection import train_test_split, cross_val_score\n",
    "from sklearn import metrics\n",
    "from skimage.feature import hog\n",
    "from skimage.color import rgb2grey\n",
    "import os\n",
    "import numpy as np\n",
    "from sklearn import metrics\n",
    "from sklearn.utils import shuffle\n",
    "import skvideo.io"
   ]
  },
  {
   "cell_type": "code",
   "execution_count": 2,
   "metadata": {
    "collapsed": true
   },
   "outputs": [],
   "source": [
    "movies = []\n",
    "\n",
    "for file in os.listdir('files/movies/Violence/'):\n",
    "    movie = os.path.join('files/movies/Violence/', file)\n",
    "    movies.append((movie, 1))\n",
    "    \n",
    "for file in os.listdir('files/movies/NonViolence/'):\n",
    "    movie = os.path.join('files/movies/NonViolence/', file)\n",
    "    movies.append((movie, 0))"
   ]
  },
  {
   "cell_type": "code",
   "execution_count": 3,
   "metadata": {
    "collapsed": true
   },
   "outputs": [],
   "source": [
    "def compute_hogs(file):\n",
    "    hogs = []\n",
    "    videogen = skvideo.io.vreader(file)\n",
    "    for frame in videogen:\n",
    "        greyscale = rgb2grey(frame)\n",
    "        frame_hog = hog(greyscale, orientations=8, pixels_per_cell=(16, 16),\n",
    "                        cells_per_block=(1, 1), visualise=False, feature_vector=True)\n",
    "        hogs.append(frame_hog)\n",
    "        \n",
    "    hogs = np.array(hogs)\n",
    "    return hogs"
   ]
  },
  {
   "cell_type": "code",
   "execution_count": 4,
   "metadata": {
    "collapsed": false
   },
   "outputs": [
    {
     "name": "stdout",
     "output_type": "stream",
     "text": [
      "1 files/movies/Violence/football_violence__Brutal_fight_of_the_hooligans_in_Europe__CocaineBaron__ctbwtUZfhY4.avi\n",
      "1 files/movies/Violence/football_violence__A_Town_Called_Football_by_Nil_Satis__louderthanyourface__Ptvoh4L_FxY.avi\n",
      "1 files/movies/Violence/Hooligans_violence__Torcida_do_Flamengo_x_PM_na_Final_da_Copa_do_Brasil__craigrj__kK.avi\n",
      "1 files/movies/Violence/football_violence__baseball_hockey_football_soccer_violence__Zetrom69__aQ5nh4xRak0.avi\n",
      "1 files/movies/Violence/Hooligans_violence__Football_hooligans_Reading_Swansea_1993__MrSmasherlad__9I7MpDQc82k.avi\n",
      "1 files/movies/Violence/football_violence__English_Football_Hooligans_Euro_2000__MorningGlory1997__6xAQGS0fodE.avi\n",
      "1 files/movies/Violence/balcony_football_violence__British_Football_Hooligans_Mix_3__MorningGlory1997__kW23lUV6oFk.avi\n",
      "1 files/movies/Violence/football_violence__Football_Soccer_Hooligans_Movie_Scenes__mclarenfan04__KHP6fQdrFlE.avi\n",
      "1 files/movies/Violence/crowd_violence__Crowd_Violence_Control_techniques__mackevster__wkva5YERsRg.avi\n",
      "1 files/movies/Violence/football_violence__Football_violence__lamufle__ucUm3sb39Cs.avi\n",
      "1 files/movies/Violence/fans_violence__Football_Hooligans_Watford_v_Luton_2002_Version_1__MorningGlory1997__vLOTaR9eMlg.avi\n",
      "1 files/movies/Violence/crowd_violence__FooTBaLL_Violence__dyster8__iN4kiCHg2S4.avi\n",
      "1 files/movies/Violence/Hooligans_violence__Football_Hooligans_Finland_v_Russia_World_Cup_Qualifier_June_2009__lancashirelads__SmxsnplMtb8.avi\n",
      "1 files/movies/Violence/football_violence__Football_hooligans_Watford_Luton_2002__MrSmasherlad__ClZOLHYj_7Y.avi\n",
      "1 files/movies/Violence/fans_violence__Slovak_chauvinism_nationalism_extremism_intolerance_and_all_form.avi\n",
      "1 files/movies/Violence/football_violence__Football_Hooligans_Watford_v_Luton_2002_Version_1__MorningGlory1997__vLOTaR9eMlg.avi\n",
      "1 files/movies/Violence/balcony_football_violence__Football_Hooligans_Oxford_Utd_v_Aston_Villa_2002__MorningGlory1997__bWY8AQIFYXM.avi\n",
      "1 files/movies/Violence/fans_violence__Hockey_Fights_and_Fan_Brawls__dsnitris2007__XinJCGR7u6w.avi\n",
      "1 files/movies/Violence/fans_violence__FootBall_Fans_Violence__xxxXLsDXxxx__EaCpQJLdxJ8.avi\n",
      "1 files/movies/Violence/football_violence__ardcore_hooligans__bigmunro60__9tkj8gtIoNM.avi\n",
      "1 files/movies/Violence/fans_violence__Football_Hooligans_Preston_North_End_Mix__prestonparasoccer__qwrOc8xmlpY.avi\n",
      "1 files/movies/Violence/balcony_football_violence__Football_Violence_Gais_AIK_2005__spliffpolitics__e4xiTNkfN0U.avi\n",
      "1 files/movies/Violence/balcony_football_violence__Football_Hooligans_Bury_v_Stockport_1998__MorningGlory1997__g6p_k37oWws.avi\n",
      "1 files/movies/Violence/football_violence__Football_Hooligans_Manchester_City_v_Manchester_United_1989__foothool__ISt-Ir7bb3Y.avi\n",
      "1 files/movies/Violence/fans_violence__IRAKLIS_FANS_OUTLAW__RESISTANCE1908__15XLSFN7mFs.avi\n",
      "1 files/movies/Violence/fans_violence__Hardcore_Supporter_Fight_Extreme_Violence_Final_Four_Volley_Praha__javierulf__jzmiAbjN6Mw.avi\n",
      "1 files/movies/Violence/fans_violence__Roma_vs_Man_United_Police_violence_DANISH_TV__7Anotnac7__gIfgEwL.avi\n",
      "1 files/movies/Violence/soccer_violence__Football_riots__madlu__OpgL3ZlF-gg.avi\n",
      "1 files/movies/Violence/football_violence__football_match_violence__mld0491__WL6AUKgOYSs.avi\n",
      "1 files/movies/Violence/football_violence__Football_Hooligans_Preston_North_End_Mix__prestonparasoccer__qwrOc8xmlpY.avi\n",
      "1 files/movies/Violence/Hooligans_violence__Koudlam_See_you_All__panrecord__nFWgiZxnz7o.avi\n",
      "1 files/movies/Violence/football_violence__Brutal_fight_of_the_hooligans_in_Europe_Switzerland__CocaineBaron__VmPNqxBRRIQ.avi\n",
      "1 files/movies/Violence/Hooligans_violence__Football_Hooligans_Carlisle_v_Preston_1993__prestonparasoccer__J.avi\n",
      "1 files/movies/Violence/soccer_violence__FOOTBALL_WARS__negronera18__JRyQYbq9Zr4.avi\n",
      "1 files/movies/Violence/football_fans__Football_Hooligans__ELGmedia__7by8qY2C258.avi\n",
      "1 files/movies/Violence/football_violence__Hooligans_no_talk_just_fights_docu_part_09__haagsejef23__kRlCAD-3H40.avi\n",
      "1 files/movies/Violence/football_violence__Football_Hooligans_Hull_Pub_Brawl_News_Report__lancashirelads__--3xfJHXlOc.avi\n",
      "1 files/movies/Violence/Hooligans_violence__FUCK_YOU_FOOTBALL_HOOLIGANS_RUSSIA_and_UKRAINE_part1__W00FAM__DB9PSdrfulE.avi\n",
      "1 files/movies/Violence/Hooligans_violence__ACHTUNG_skinheads_hooligans__WHITENGEL1488__H2xnId9vOo0.avi\n",
      "1 files/movies/Violence/fans_violence__Tigers_Yob_Violence_Hull_Daily_Mail__AllMail__J_znZ1TJugw.avi\n",
      "1 files/movies/Violence/football_fans__FootBall_Fans_Violence__xxxXLsDXxxx__EaCpQJLdxJ8.avi\n",
      "1 files/movies/Violence/fans_violence__Vanilla_Muffins_Chelsea_West_Ham_A_Look_At_Football_Violence__TheSicSociety__Qx0W0-0dDFQ.avi\n",
      "1 files/movies/Violence/football_violence__Football_Hooligans_QPR_v_Luton_St_Pancras__prestonparasoccer__DNL6VlA3hnQ.avi\n",
      "1 files/movies/Violence/football_violence__Football_Hooligans_Germany_v_Poland_Euro_2008__MorningGlory1997__gtaGluIXEaU.avi\n",
      "1 files/movies/Violence/fans_violence__Violence_in_Soccer_Stadiums_The_Hooligan_Syndrome__evanese1__-x2.avi\n",
      "1 files/movies/Violence/football_violence__Polish_Hooligans__tigardojaja__YLSsmo2Glyk.avi\n",
      "1 files/movies/Violence/audience_violence__Riot_police_attack_peaceful_protesters_at_G20_Climate_Camp__bristlekrs__t244-zEENSs.avi\n",
      "1 files/movies/Violence/British_Football_Hooligans_Mix_3__MorningGlory1997__kW23lUV6oFk.avi\n",
      "1 files/movies/Violence/crowd_violence__Occupy_Cal_video_Police_brutally_beat_arrest_Berkeley_students__RussiaToday__B_f06VQOkI4.avi\n",
      "1 files/movies/Violence/Hooligans_violence__Russian_Hooligans_Zenit_St_Petersburg__LordXavior__iMjISeT72vQ.avi\n",
      "1 files/movies/Violence/football_violence__Footballs_Blood_Sport_prt_1__Tramppercy__WSCF2iLuRyk.avi\n",
      "1 files/movies/Violence/football_violence__Football_Factory_PV_by_Daryl_T_Fave_Films_Clips__LogicBomb777__vnwttRPHdnw.avi\n",
      "1 files/movies/Violence/Hooligans_violence__Football_Hooligans_Hull_Pub_Brawl_News_Report__lancashirelads__--3xfJHXlOc.avi\n",
      "1 files/movies/Violence/Hooligans_violence__English_Hooligans__JohnLaw__Wob3r1Leamw.avi\n",
      "1 files/movies/Violence/crowd_violence__Violence_At_Upton_Park_25_08_09__JunaidNixamani__MgXe0isUnSg.avi\n",
      "1 files/movies/Violence/Hooligans_violence__Croatia_Hooligans__EXB04__JQrSRtqoU_I.avi\n",
      "1 files/movies/Violence/Hooligans_violence__Hooligans_violence__BRANNIK_football_violence__KD666999__YTqe4xf5o6U.avi\n",
      "1 files/movies/Violence/fans_violence__F_GHT_S_MORE_MPORTANT_THAN_FOOTBALL_sometimes__shevchenko776__9a616Ppoeak.avi\n",
      "1 files/movies/Violence/fans_violence__Fans_Fighting_Roma_vs_Man_Utd__teafor22__oYikreK6ng4.avi\n",
      "1 files/movies/Violence/Hooligans_violence__Footballs_Blood_Sport_prt2__Tramppercy__P9a6qZ3r90k.avi\n",
      "1 files/movies/Violence/soccer_violence__HOOLIGANS__mscs01__YWE3lKNm8aA.avi\n",
      "1 files/movies/Violence/football_violence__HOOLIGANS__mscs01__YWE3lKNm8aA.avi\n",
      "1 files/movies/Violence/stadium_violence__soccer_riot_compilation__qqcolaman__URwiZLZipeg.avi\n",
      "1 files/movies/Violence/balcony_football_violence__Football_Hooligans_Watford_v_Luton_2002_Version_2__MorningGlory1997__1XbY1Sr2Obw.avi\n",
      "1 files/movies/Violence/Hooligans_violence__Hooligans_war_in_Russian_vk__artemorlik__6UNj6fEgz8U.avi\n",
      "1 files/movies/Violence/football_violence__Violence_and_fascism_in_Ukrainian_football__soroktri43__eG8qryFn.avi\n",
      "1 files/movies/Violence/group_violence__group_violence__football_violence__aliiie__qfKD35PYwok.avi\n",
      "1 files/movies/Violence/Hooligans_violence__Football_Hooligans_Germany_v_Poland_Euro_2008__MorningGlory1997__gtaGluIXEaU.avi\n",
      "1 files/movies/Violence/soccer_violence__MORTAL_SOCCER_Part_2__sha3booola__H6iKYprpB30.avi\n",
      "1 files/movies/Violence/Hooligans_violence__Football_Hooligans_Preston_V_Bradford_2003__eliteborg__NLtW_TzoQm4.avi\n",
      "1 files/movies/Violence/balcony_football_violence__Football_Hooligans_Watford_v_Luton_2002_Version_1__MorningGlory1997__vLOTaR9eMlg.avi\n",
      "1 files/movies/Violence/football_fans__World_football_compilation_ultras_players_hooligans_emotions__ex.avi\n",
      "1 files/movies/Violence/crowd_violence__Man_Utd_vs_Roma_Crowd_Trouble__uncychris__ZGI5vlDMpJA.avi\n",
      "1 files/movies/Violence/Hooligans_violence__FOOTBALL_HOOLIGANS_WEST_HAM_v_MILLWALL_AUGUST_2009_LONGER_VERSIO.avi\n",
      "1 files/movies/Violence/football_violence__Roma_vs_Man_United_Police_violence_DANISH_TV__7Anotnac7__gIfgEwL.avi\n",
      "1 files/movies/Violence/Hooligans_violence__5x5_russian_hooligans_fight__Parkhom__GnfpwW6sMkc.avi\n",
      "1 files/movies/Violence/Hooligans_violence__The_Best_Fans_in_the_World_Part_4_Hooligans__crvenobeli__3mXS25x.avi\n",
      "1 files/movies/Violence/football_violence__Football_Hooligans_Man_City_v_Man_United_1989__lancashirelads__r.avi\n",
      "1 files/movies/Violence/stadium_violence__stadium_violence__Barras_Argentinas__alebb77__en5llVbjq20.avi\n",
      "1 files/movies/Violence/balcony_football_violence__Football_Hooligans_Leeds_v_Wolves_2005__MorningGlory1997__f66MTrNLPL0.avi\n",
      "1 files/movies/Violence/soccer_violence__Soccer_Hooligans_Clash_Unbelievable_Rumble__OrionEdWood__8DCP_E_J8A0.avi\n",
      "1 files/movies/Violence/crowd_violence__Rostock_Anti_G8_Demo_Police_Violence__erikaransom__f185olt6W4I.avi\n",
      "1 files/movies/Violence/fans_violence__Violence_after_bball_game__shlomipr__WSFdO3em2I8.avi\n",
      "1 files/movies/Violence/football_violence__Danish_Hooligans_Exclusive_video__MosquitoTheRapist__t9IYNex9Nn4.avi\n",
      "1 files/movies/Violence/fans_violence__Hooligans_violence_in_stadiums_PART_1__yuossef5959__PPIP1AYJyXE.avi\n",
      "1 files/movies/Violence/football_violence__football_violence__Brannik_Football_Violence__Elbsturm1488__7NyYlQX-tiI.avi\n",
      "1 files/movies/Violence/football_violence__english_football_hooligans__ohnoherewego1234__ydTykaGO-Dg.avi\n",
      "1 files/movies/Violence/soccer_violence__Chinese_kungfu_soccer__crazyzibe__Gsrc7AXC_kI.avi\n",
      "1 files/movies/Violence/football_violence__Football_Hooligans_Millwall_Compilation__MorningGlory1997__U-CsDQik3sw.avi\n",
      "1 files/movies/Violence/Hooligans_violence__FENERBAHCE_ULTRAS_VS_COPS_VIOLENCE_RIOT__2maxpower1453__e7Bv5fTB.avi\n",
      "1 files/movies/Violence/football_violence__Football_Violence_Gais_AIK_2005__spliffpolitics__e4xiTNkfN0U.avi\n",
      "1 files/movies/Violence/stadium_violence__Panathinaikos_Olympiakos_96_97_riots__GWF13__xW_LC_siwQo.avi\n",
      "1 files/movies/Violence/Hooligans_violence__I_D_Trailer__ImLonelyLinda__5Y26VMm4L7o.avi\n",
      "1 files/movies/Violence/football_violence__British_Football_Hooligans_Mix_3__MorningGlory1997__kW23lUV6oFk.avi\n",
      "1 files/movies/Violence/football_violence__English_Hooligans__JohnLaw__Wob3r1Leamw.avi\n",
      "1 files/movies/Violence/Hooligans_violence__Fuck_police_Let_s_riot__tigerland2222__Q2k-ZHCZBAk.avi\n",
      "1 files/movies/Violence/soccer_violence__FENERBAHCE_ULTRAS_VS_COPS_VIOLENCE_RIOT__2maxpower1453__e7Bv5fTB.avi\n",
      "1 files/movies/Violence/fans_violence__Marseille_World_Cup_fans_riot__tizwaz35__I9sUIDRjpoo.avi\n",
      "1 files/movies/Violence/soccer_violence__SCC_gets_owned_by_real_football_fans__JayFCAK47__32N5pojPfV8.avi\n",
      "1 files/movies/Violence/football_violence__FUCK_YOU_FOOTBALL_HOOLIGANS_FRENZY_PART1_SCOTLAND__W00FAM__Yy73o.avi\n",
      "1 files/movies/Violence/balcony_football_violence__Brannik_Football_Violence__Nattevandring__ysW-tGv-YjI.avi\n",
      "1 files/movies/Violence/football_violence__Football_Hooligans_Leeds_v_Wolves_2005__MorningGlory1997__f66MTrNLPL0.avi\n",
      "1 files/movies/Violence/football_violence__Football_Hooligans_Russia_v_England_News_Report__prestonparasocc.avi\n",
      "1 files/movies/Violence/football_violence__Football_Hooligans_Finland_v_Russia_World_Cup_Qualifier_June_2009__lancashirelads__SmxsnplMtb8.avi\n",
      "1 files/movies/Violence/fans_violence__THE_BEST_HOOLIGANS_Los_hinchas_ultras_barra_torcida_fans_fanatic.avi\n",
      "1 files/movies/Violence/soccer_violence__hu_hu_hu_hooligans__misom0000__w_p6cBeTHkg.avi\n",
      "1 files/movies/Violence/fans_violence__Football_Violence_From_England_And_Netherlands__spliffpolitics__anRuF6MBO-s.avi\n",
      "1 files/movies/Violence/fans_violence__BRANNIK_Football_Violence_CSKA__Arpecua__gew9Ks_9VRU.avi\n",
      "1 files/movies/Violence/Hooligans_violence__Accidents_Fights_Violence_Tragedies_Hooligans_Football_Fights_HORRIBLE_THINGS__darkhero00__PgujG07PUq0.avi\n",
      "1 files/movies/Violence/football_violence__Football_Hooligans_Cardiff_v_Barnsley_2003__MorningGlory1997__mSS7490HcJI.avi\n",
      "1 files/movies/Violence/football_violence__FUCK_YOU_FOOTBALL_HOOLIGANS_RUSSIA_and_UKRAINE_part1__W00FAM__DB.avi\n",
      "1 files/movies/Violence/football_violence__project_d_football_violence__henkiejwt__MFDeI2bK2Pk.avi\n",
      "1 files/movies/Violence/football_violence__Football_violence_3__reklamomand__SjUBX5K5QRo.avi\n",
      "1 files/movies/Violence/Hooligans_violence__Hooligans_Untold_Story_Part_2__UltrasHooligansFilms__BXBtZwzv3EI.avi\n",
      "1 files/movies/Violence/Hooligans_violence__Football_Hooligans_QPR_v_Luton_St_Pancras__prestonparasoccer__DNL6VlA3hnQ.avi\n",
      "1 files/movies/Violence/football_violence__Football_hooligans_fighting_in_Helsinki_WCQL_Finland_Russia__f43344__n3yajhkWI6w.avi\n",
      "1 files/movies/Violence/football_violence__Accidents_Fights_Violence_Tragedies_Hooligans_Football_Fights_HORRIBLE_THINGS__darkhero00__PgujG07PUq0.avi\n",
      "1 files/movies/Violence/football_violence__Hooligans_no_talk_just_fights_docu_part_04__haagsejef23__GcP3SiwkmGo.avi\n",
      "1 files/movies/Violence/soccer_violence__Football_Hooligans_Preston_North_End_Mix__prestonparasoccer__qwr.avi\n",
      "1 files/movies/Violence/Hooligans_violence__Polish_Hooligans__tigardojaja__YLSsmo2Glyk.avi\n",
      "1 files/movies/Violence/fans_violence__Accidents_Fights_Violence_Tragedies_Hooligans_Football_Fights_HORRIBLE_THINGS__darkhero00__PgujG07PUq0.avi\n",
      "1 files/movies/Violence/fans_violence__English_Hooligans_vs_Turkey_Ultras__Vandal83__J8S2-pGz8ao.avi\n",
      "1 files/movies/Violence/crowd_violence__Roma_V_Man_Utd_Police_beating_crowd__Beck84Utd__jwtg8AkcAfc.avi\n",
      "1 files/movies/Violence/football_violence__Football_Hooligans_Carlisle_v_Preston_1993__prestonparasoccer__JfLHSqKm9zg.avi\n",
      "1 files/movies/Violence/balcony_football_violence__British_Football_Hooligans_Mix_1__MorningGlory1997__pn6CNLi3UhA.avi\n",
      "0 files/movies/NonViolence/football_crowds_cheering__Alabama_vs_San_Jose_State__marlincaddell__RqdBKczKyA4.avi\n",
      "0 files/movies/NonViolence/football_crowds__Giants_of_Brazil_6_of_6__anandaliyanage__lq-GBA34iEI.avi\n",
      "0 files/movies/NonViolence/football_crowds_cheering__FIFA_2010_USA_v_ENG_Dupont_Cirlce_Washington_DC__icallmyselfbria.avi\n",
      "0 files/movies/NonViolence/stadium_crowds__BullDOgs_SoNG_aNd_VidEO_REMixed_NRL_CHAMPIONS_remix_of_BLue_WhiT.avi\n",
      "0 files/movies/NonViolence/stadium_crowds__Fulltime_at_Scottish_Cup_Final_Hampden_2010__tattoosyke__7JhKy66.avi\n",
      "0 files/movies/NonViolence/stadium_crowds__Azan_el_Maghrib_to_calm_the_crowds_in_Cairo_stadium_Egypt_14_nov.avi\n",
      "0 files/movies/NonViolence/football_crowds__Love_is_in_the_air_DUFC_cup_final_Hampden_2010__tattoosyke__Afp7.avi\n",
      "0 files/movies/NonViolence/football_crowds_cheering__Brisbane_Lions_v_Carlton_Blues_The_Gabba_5_Sept_2009__jacktion19.avi\n",
      "0 files/movies/NonViolence/stadium_crowds__Life_in_a_Day_Cheering_in_a_crowd_of_44_000__TheMariaMcD__EnR2uY.avi\n",
      "0 files/movies/NonViolence/stadium_crowds__Barnsley_FC_V_Swansea_City_FC_League_1_Play_off_Final_2006__stua.avi\n",
      "0 files/movies/NonViolence/stadium_crowds__Did_Lady_GaGa_throw_a_tantrum__unknownsince1983__0Vkz-_rVYB8.avi\n",
      "0 files/movies/NonViolence/stadium_crowds__50000_people_in_a_stadium__simoncharlesspencerg__fLKom2IbDlg.avi\n",
      "0 files/movies/NonViolence/football_crowds__Massena_Central_High_School_Hall_Of_Fame_Football_Game_2009__joh.avi\n",
      "0 files/movies/NonViolence/football_crowds_cheering__Drill_Team_cheering_2_9_24_09__GHSClassOf09__qX4tQ1OHw3c.avi\n",
      "0 files/movies/NonViolence/football_crowds_cheering__Welcome_Home_ACC_Champions_part_A__jamesllvt__UGurBSFE8Es.avi\n",
      "0 files/movies/NonViolence/football_crowds_cheering__I_O_W_A__temery16__EDS_jct18FA.avi\n",
      "0 files/movies/NonViolence/football_crowds_cheering__Scenes_from_Friday_s_ESPN_College_Game_Day_at_UK__UKSGREAT__dXA5.avi\n",
      "0 files/movies/NonViolence/football_crowds_cheering__Vanier_Cup_2009_Queen_s_Gaels_vs_Calgary_Dinos_HD__Treps___J5TDF.avi\n",
      "0 files/movies/NonViolence/football_crowds_cheering__Inside_the_Iowa_Spirit_Squads__uimediaproduction__V365Mro2t88.avi\n",
      "0 files/movies/NonViolence/stadium_crowds__Jump_Around_at_the_Camp_Randall_Outdoor_Hockey_Classic__ernste40.avi\n",
      "0 files/movies/NonViolence/football_crowds_cheering__UF_Cheering_style__Playersgod__RaBmHs4MdLo.avi\n",
      "0 files/movies/NonViolence/stadium_crowds__Crowd_Footage__ADTom43__PbQywcwkxDM.avi\n",
      "0 files/movies/NonViolence/football_crowds_cheering__Hajduk_Split_vs_Dinamo_Zagreb_28_May_2009_Croatia_Cup_Final__jay.avi\n",
      "\n",
      "0 files/movies/NonViolence/football_crowds__Both_crowds_Boca_vs_Internacionale__HansieC__ramrVUP0W0k.avi\n",
      "0 files/movies/NonViolence/football_crowds_cheering__9697_stadium_crowds__oddballfilmvideo__4onlltf20tE.avi\n",
      "0 files/movies/NonViolence/football_crowds_cheering__Sandy_Creek_High_School_Football__cartmanspeedzone__jpX-DHradPo.avi\n",
      "0 files/movies/NonViolence/stadium_crowds__2008_Penn_State_Football_Crowd_Pump_Up_Video__rmcmillen50__rQB1R.avi\n",
      "0 files/movies/NonViolence/stadium_crowds__HARRY_KEWELL_SCORES_CROWD_GO_NUTS__phillipstama__K7qlpU7tMhQ.avi\n",
      "0 files/movies/NonViolence/football_crowds__MaximsNewsNetwork_SUDAN_ELECTIONS_YASIR_ARMAN_OMAR_AL_BASHIR_UNM.avi\n",
      "0 files/movies/NonViolence/football_crowds__Spain_World_Cup_team_receives_hero_s_welcome__timesofearth__Pz3z.avi\n",
      "0 files/movies/NonViolence/stadium_crowds__Feel_the_buzz_of_Croke_Park__DiscoverGAA__bCYSflQwc7o.avi\n",
      "0 files/movies/NonViolence/stadium_crowds__Stadium_Footage__ADTom43__AQdZ2OTF7VA.avi\n",
      "0 files/movies/NonViolence/stadium_crowds__2010_Probowl__SuperBowlWayne64__5aG92ySPbag.avi\n",
      "0 files/movies/NonViolence/stadium_crowds__MASSIVE_mexican_Wave_at_state_of_origin_game_2_2010__MELfunkshun.avi\n",
      "0 files/movies/NonViolence/stadium_crowds__Police_drill_for_2010__CNN__0LP012X0yiA.avi\n",
      "0 files/movies/NonViolence/football_crowds_cheering__MAN_DROPS_BEER_STATE_OF_ORIGIN_2009__afhb2512__rLoVsCv00Ao.avi\n",
      "0 files/movies/NonViolence/stadium_crowds__Inside_the_Iowa_Spirit_Squads__uimediaproduction__V365Mro2t88.avi\n",
      "0 files/movies/NonViolence/football_crowds_cheering__Cheering_in_the_dawg_pack_as_game_gets_under_way__hometownkid__p.avi\n",
      "0 files/movies/NonViolence/football_crowds__Wrest_Point_Tassie_Devils_coming_off_the_field_in_their_final_ma.avi\n",
      "0 files/movies/NonViolence/football_crowds_cheering__Sunderland_Goal_against_Wigan__adamfearman__yXSc-kCWBjY.avi\n",
      "0 files/movies/NonViolence/stadium_crowds__Bowman_Gray_New_Tourist_Destination__WXIItv__FIdbB90Dr2o.avi\n",
      "0 files/movies/NonViolence/football_crowds__Giants_of_Brazil_5_of_6__anandaliyanage__5tw2pojykz8.avi\n",
      "0 files/movies/NonViolence/football_crowds__Nepal_U16_versus_Tajikistan_U16__ampr1150gs__xcn-9PxjnIE.avi\n",
      "0 files/movies/NonViolence/football_crowds_cheering__Cal_Beats_Stanford_Big_Game_2002_short_low_res_version__belmonto.avi\n",
      "0 files/movies/NonViolence/football_crowds_cheering__The_Wave_at_The_Big_Game__contron__DBQaM3PVLqA.avi\n",
      "0 files/movies/NonViolence/football_crowds_cheering__Cheering_the_Nod__DjOky__iwrZ7iOfXAA.avi\n",
      "0 files/movies/NonViolence/football_crowds_cheering__Chang_Rai_United_Football_Match__goldfly___aTVnHfqClA.avi\n",
      "0 files/movies/NonViolence/football_crowds_cheering__Andres_Iniesta_Standing_Ovations__allas11__WKv7pmjgDeg.avi\n",
      "0 files/movies/NonViolence/stadium_crowds__FIFA_World_Cup_The_Warriors_and_Magicians__SuperUdink__I2kOH7p48.avi\n",
      "0 files/movies/NonViolence/football_crowds__F_A_Cup_Final_2010_Clips_Lifestyle_Video__JPettsProductions__Kvt.avi\n",
      "0 files/movies/NonViolence/stadium_crowds__Brisbane_Lions_vs_Melbourne_Demons_The_Gabba__StudyinBrisbane__Y.avi\n",
      "0 files/movies/NonViolence/football_crowds__ASB_SHOW_HOMECOMING_VIDEO_2010__deweesbrofilms__RUAVfS2OyX0.avi\n",
      "0 files/movies/NonViolence/football_crowds_cheering__LSU_Game_Day__LSU__dyxtnGpQ3lg.avi\n",
      "0 files/movies/NonViolence/football_crowds_cheering__Varsity_Football_Cardinal_O_Hara_vs_Roman_Catholic__Varsity365__.avi\n",
      "0 files/movies/NonViolence/football_crowds__Brazilian_Football__WELLBRAN__kKRw-i7pukY.avi\n",
      "0 files/movies/NonViolence/stadium_crowds__Rutgers_tackles_traffic__tvjersey__j623HU58M8U.avi\n",
      "0 files/movies/NonViolence/football_crowds_cheering__Human_LCD_Close_Up_Video_SOUTH_KOREA__rnqhdtnr__7Jgkm2pdWgY.avi\n",
      "0 files/movies/NonViolence/stadium_crowds__FBR_Open_16th_Hole_Highlights__TheFBROpen__zJHVTcnGzcI.avi\n",
      "0 files/movies/NonViolence/football_crowds_cheering__Jacksonville_Jaguar_Promo__joshlee1090__jIoVPOVXuww.avi\n",
      "0 files/movies/NonViolence/football_crowds__Poldi_Odonkor_und_Asamoah_singen_in_Berlin__indra1974__4TkcO2r0q.avi\n",
      "0 files/movies/NonViolence/football_crowds__Love_for_the_local_game__NTVKenya__52tfgLRJ2TA.avi\n",
      "0 files/movies/NonViolence/football_crowds_cheering__Buddy_kicks_100_goals_Hawthorn_vs_Carlton__Greaperman__BlUgh2qDj.avi\n",
      "0 files/movies/NonViolence/football_crowds_cheering__Australia_vs_Ghana__cubicspacedivision__hy9sgs_Rzbg.avi\n",
      "0 files/movies/NonViolence/balcony_football__Seoul_vs_Dae_Gu_Futbol_Roman_Candles__JOECORE__bbpgvaM2sxs.avi\n",
      "0 files/movies/NonViolence/football_crowds_cheering__Oregon_Ducks_vs_USC_Trojans_10_31_09__thatssnorthwest__9f0fI4-sF.avi\n",
      "0 files/movies/NonViolence/football_crowds__rangers_v_celtic__Milneadona__OOWpL4wKIAA.avi\n",
      "0 files/movies/NonViolence/football_crowds_cheering__Tallest_Cup_Stack_in_Football_Fan_History__break__ofi003Eec_E.avi\n",
      "0 files/movies/NonViolence/stadium_crowds__Wales_Wonderful_Rugby_Win_1922__BFIfilms__Mb89swT_V3M.avi\n",
      "0 files/movies/NonViolence/football_crowds_cheering__football_game__banonit123__m5pMOoPH21w.avi\n",
      "0 files/movies/NonViolence/football_crowds_cheering__Crystal_cheering_on_the_Angels__jayskilove__NpCBQfC7TSc.avi\n",
      "0 files/movies/NonViolence/football_crowds_cheering__Hamburg_Fan_Party_Opening_Match_World_Cup_2006__Dee162__6ROznW9c.avi\n",
      "0 files/movies/NonViolence/football_crowds_cheering__World_Cup_2010_Korea_vs_Uruguay_Han_River_Seoul_Korea_Ties_Game_.avi\n",
      "0 files/movies/NonViolence/stadium_crowds__Iranian_Revolution_10th_Year_Anniversary__hijazna__PFZsW8I-GVY.avi\n",
      "0 files/movies/NonViolence/football_crowds__New_Mexico_Men_s_Soccer_Crowd_Atmosphere__menslobosoccer__us9aHz.avi\n",
      "0 files/movies/NonViolence/football_crowds_cheering__Penn_State_Crowd__mam1042__-yp5n8JJ-zA.avi\n",
      "0 files/movies/NonViolence/stadium_crowds__Yankee_Stadium_wave_5_2_08__NYlightning__g_CJ1A636kg.avi\n",
      "0 files/movies/NonViolence/football_crowds_cheering__Jon_and_JJ_The_Elder_Crowd__jonandjj__NCFv0XMyvUk.avi\n",
      "0 files/movies/NonViolence/football_crowds__2008_Penn_State_Football_Crowd_Pump_Up_Video__rmcmillen50__rQB1R.avi\n",
      "0 files/movies/NonViolence/football_crowds__Egypt_2_0_Algeria_World_Cup_2010__Azariful__joItnDgUGUc.avi\n",
      "0 files/movies/NonViolence/balcony_football__birmingham_promoted_to_premier_from_balcony_town_hall__clippo67_.avi\n",
      "0 files/movies/NonViolence/football_crowds_cheering__Cougar_Football__montanhaf100__tZMx6fr49H0.avi\n",
      "0 files/movies/NonViolence/football_crowds_cheering__Arkansas_vs_ULM_September_11_2010_Woo_Pig_Sooie__jayd243__RfMRWT.avi\n",
      "0 files/movies/NonViolence/football_crowds_cheering__K_State_fans_chant_WE_OWN_TEXAS__rockCHOKE21__YVr3IdD6rpY.avi\n",
      "0 files/movies/NonViolence/football_crowds__HARRY_KEWELL_SCORES_CROWD_GO_NUTS__phillipstama__K7qlpU7tMhQ.avi\n",
      "0 files/movies/NonViolence/football_crowds_cheering__Jaguars_vs_Broncos_in_HD__misspfaff__LPM8ONCnh2g.avi\n",
      "0 files/movies/NonViolence/football_crowds_cheering__larson_is_welcomed_to_OT__mc4566__sBVBkxmK3VY.avi\n",
      "0 files/movies/NonViolence/football_crowds__Anglia_News_Sport_Soccer_Football_FIFA_South_Africa_World_Cup_2010_The_Vuvuzela__anglianewseast__3JrtWmyk-Do.avi\n",
      "0 files/movies/NonViolence/football_crowds__Maracana_Football_Crowd_Atmosphere__thetravelmap__xfi3rvFKIPU.avi\n",
      "0 files/movies/NonViolence/stadium_crowds__Bands_talk_about_their_influences_from_Punk_s_Not_Dead__PNDmovie.avi\n",
      "0 files/movies/NonViolence/peaceful_football_crowds__MaximsNewsNetwork_SUDAN_ELECTIONS_YASIR_ARMAN_OMAR_AL_BASHIR_UNM.avi\n",
      "0 files/movies/NonViolence/football_crowds_cheering__Alabama_Ole_Miss_08_Rammer_Jammer__jaydubya10__mviEzH28NiE.avi\n",
      "0 files/movies/NonViolence/football_crowds_cheering__Day_254_of_2010_Washington_Huskies_First_Half__shinystuffff__H3x.avi\n",
      "0 files/movies/NonViolence/football_crowds__football_crowds__Anglia_News_Sport_Soccer_Football_FIFA_South_Africa_World_Cup_20.avi\n",
      "0 files/movies/NonViolence/stadium_crowds__Tokyo_Yakult_Swallows_Home_Run_Celebration__wackycamper32__cX9ln.avi\n",
      "0 files/movies/NonViolence/football_crowds_cheering__Totally_Stupid_Footballers_Series_1_Episode_5_An_Ending_With_A_H.avi\n",
      "0 files/movies/NonViolence/football_crowds_cheering__New_Mexico_Men_s_Soccer_Crowd_Atmosphere__menslobosoccer__us9aHz.avi\n",
      "0 files/movies/NonViolence/football_crowds_cheering__IU_Football_travels_to_Michigan__wtiu__GkRsT40daQ0.avi\n",
      "0 files/movies/NonViolence/stadium_crowds__Maracana_Football_Crowd_Atmosphere__thetravelmap__xfi3rvFKIPU.avi\n",
      "0 files/movies/NonViolence/football_crowds_cheering__Ghana_stars_in_heroes_reception__NTVKenya__RXQA-gagvKI.avi\n",
      "0 files/movies/NonViolence/stadium_crowds__MaximsNewsNetwork_ITALY_SPORT_SECURITY_UN__MaximsNewsNetwork__C-.avi\n",
      "0 files/movies/NonViolence/football_crowds_cheering__The_Crowd__Rosiercentral__aqIzMGff5ak.avi\n",
      "0 files/movies/NonViolence/football_crowds_cheering__Kickoff_in_Camp_Randall__spt414__bEZahnaRpmQ.avi\n",
      "0 files/movies/NonViolence/football_crowds_cheering__The_Ohio_State_University_Cheer__DEXTERTEEOHIO__FM9Jcpixqz0.avi\n",
      "0 files/movies/NonViolence/football_crowds__Inside_the_Iowa_Spirit_Squads__uimediaproduction__V365Mro2t88.avi\n",
      "0 files/movies/NonViolence/football_crowds_cheering__TCU_Fans_Cheer_The_Biggest_Crowd_In_TCU_History_at_Amon_Carter_S.avi\n",
      "0 files/movies/NonViolence/stadium_crowds__USC_Football_Team_arriving_at_Lincoln_stadium_2007__jmsotojr__um.avi\n",
      "0 files/movies/NonViolence/football_crowds__Brisbane_Lions_vs_Melbourne_Demons_The_Gabba__StudyinBrisbane__Y.avi\n",
      "0 files/movies/NonViolence/football_crowds_cheering__World_Cup_2010_Korea_vs_Uruguay_Han_River_Seoul_Pre_game__vivach.avi\n",
      "0 files/movies/NonViolence/stadium_crowds__bohemka_viktorka_I__averlaagen__FDu-Q6Q5OVk.avi\n",
      "0 files/movies/NonViolence/football_crowds_cheering__rowdy_crowd_at_Football_game__andyisalive__RWnAoJdeXsE.avi\n",
      "0 files/movies/NonViolence/football_crowds_cheering__LIVE_SQUAD_Morgan_State_University_Band_Pep_Club__DShock17__2x96.avi\n",
      "0 files/movies/NonViolence/football_crowds__USC_Football_Team_arriving_at_Lincoln_stadium_2007__jmsotojr__um.avi\n",
      "0 files/movies/NonViolence/football_crowds_cheering__Cheering_EAHS_JV_Win__GoAlvarezEagles__Ya-N2JawEyc.avi\n",
      "0 files/movies/NonViolence/stadium_crowds__Mexican_Wave_at_Cape_Town_Stadium__mallix2000__oyESuDC-dl0.avi\n",
      "0 files/movies/NonViolence/football_crowds_cheering__mu_beats_ku_victory_celebration__brennanhobart__q7ANQ6HCRIU.avi\n",
      "0 files/movies/NonViolence/football_crowds_cheering__Spartans_What_Is_Your_Profession_Chant__PaulWaLL4EvR__KeWNYvvINZ.avi\n",
      "0 files/movies/NonViolence/stadium_crowds__Outside_Yankee_Stadium_Following_World_Series_Win_vs_Phillies_11.avi\n",
      "0 files/movies/NonViolence/football_crowds_cheering__Varsity_Football_Conestoga_at_Ridley__Varsity365__wR3tNpXRcYg.avi\n",
      "0 files/movies/NonViolence/stadium_crowds__Egypt_2_0_Algeria_World_Cup_2010__Azariful__joItnDgUGUc.avi\n",
      "0 files/movies/NonViolence/stadium_crowds__Match_Day_at_the_Stadium__loVedruggedz__Fgjj8OjcnWU.avi\n",
      "0 files/movies/NonViolence/football_crowds__FIFA_World_Cup_The_Warriors_and_Magicians__SuperUdink__I2kOH7p48.avi\n",
      "0 files/movies/NonViolence/football_crowds_cheering__The_Greatest_Game_of_the_Year__MarcelloMussarela__lmJVKXUQPJA.avi\n"
     ]
    }
   ],
   "source": [
    "all_hogs = []\n",
    "labels = []\n",
    "for i, (x, y) in enumerate(movies):\n",
    "    try:\n",
    "        hogs = compute_hogs(x)\n",
    "        all_hogs.append(hogs)\n",
    "        labels.append(y)\n",
    "        print(y, x)\n",
    "    except Exception as e:\n",
    "        print(e)\n",
    "\n",
    "all_hogs = np.array(all_hogs)\n",
    "labels = np.array(labels)\n",
    "np.save('all_hogs', all_hogs)\n",
    "np.save('labels', labels)"
   ]
  },
  {
   "cell_type": "code",
   "execution_count": 5,
   "metadata": {
    "collapsed": false
   },
   "outputs": [
    {
     "name": "stdout",
     "output_type": "stream",
     "text": [
      "(247,)\n"
     ]
    }
   ],
   "source": [
    "all_hogs = np.load('all_hogs.npy')\n",
    "labels = np.load('labels.npy')\n",
    "print(all_hogs.shape)"
   ]
  },
  {
   "cell_type": "code",
   "execution_count": 6,
   "metadata": {
    "collapsed": true
   },
   "outputs": [],
   "source": [
    "def average_hogs():\n",
    "    averages = []\n",
    "    for hogs in all_hogs:\n",
    "        average_hog = np.mean(hogs, axis=0)\n",
    "        averages.append(average_hog)\n",
    "    return averages"
   ]
  },
  {
   "cell_type": "code",
   "execution_count": 7,
   "metadata": {
    "collapsed": false
   },
   "outputs": [],
   "source": [
    "def sum_hogs():\n",
    "    summation = []\n",
    "    for hogs in all_hogs:\n",
    "        sum_hog = np.sum(hogs, axis=0)\n",
    "        summation.append(sum_hog)\n",
    "    return summation"
   ]
  },
  {
   "cell_type": "code",
   "execution_count": 8,
   "metadata": {
    "collapsed": false
   },
   "outputs": [
    {
     "name": "stdout",
     "output_type": "stream",
     "text": [
      "(247, 2400)\n"
     ]
    }
   ],
   "source": [
    "features = sum_hogs()\n",
    "features = np.array(features)\n",
    "print(features.shape)"
   ]
  },
  {
   "cell_type": "code",
   "execution_count": 9,
   "metadata": {
    "collapsed": false
   },
   "outputs": [
    {
     "name": "stdout",
     "output_type": "stream",
     "text": [
      "[ 0.80769231  0.84615385  0.84        0.96        0.96        0.875       0.875\n",
      "  0.625       0.75        0.79166667]\n",
      "0.833051282051\n",
      "0.0940797114709\n"
     ]
    }
   ],
   "source": [
    "features, labels = shuffle(features, labels)\n",
    "estimator = LinearSVC()\n",
    "scores = cross_val_score(estimator, features, labels, cv=10, n_jobs=-1)\n",
    "print(scores)\n",
    "print(np.mean(scores))\n",
    "print(np.std(scores))"
   ]
  },
  {
   "cell_type": "code",
   "execution_count": null,
   "metadata": {
    "collapsed": true
   },
   "outputs": [],
   "source": []
  }
 ],
 "metadata": {
  "kernelspec": {
   "display_name": "Python 3",
   "language": "python",
   "name": "python3"
  },
  "language_info": {
   "codemirror_mode": {
    "name": "ipython",
    "version": 3
   },
   "file_extension": ".py",
   "mimetype": "text/x-python",
   "name": "python",
   "nbconvert_exporter": "python",
   "pygments_lexer": "ipython3",
   "version": "3.5.3"
  }
 },
 "nbformat": 4,
 "nbformat_minor": 2
}
