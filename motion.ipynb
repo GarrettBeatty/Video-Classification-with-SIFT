{
 "cells": [
  {
   "cell_type": "code",
   "execution_count": 6,
   "metadata": {
    "collapsed": false
   },
   "outputs": [],
   "source": [
    "from sklearn.svm import LinearSVC\n",
    "from sklearn.neighbors import KNeighborsClassifier\n",
    "from sklearn.model_selection import train_test_split, cross_val_score, cross_val_predict\n",
    "from sklearn import metrics\n",
    "import os\n",
    "import numpy as np\n",
    "from sklearn import metrics\n",
    "from sklearn.utils import shuffle\n",
    "import skvideo.io\n",
    "from skvideo.motion import blockMotion"
   ]
  },
  {
   "cell_type": "code",
   "execution_count": 7,
   "metadata": {
    "collapsed": true
   },
   "outputs": [],
   "source": [
    "movies = []\n",
    "\n",
    "for file in os.listdir('files/movies/Violence/'):\n",
    "    movie = os.path.join('files/movies/Violence/', file)\n",
    "    movies.append((movie, 1))\n",
    "    \n",
    "for file in os.listdir('files/movies/NonViolence/'):\n",
    "    movie = os.path.join('files/movies/NonViolence/', file)\n",
    "    movies.append((movie, 0))"
   ]
  },
  {
   "cell_type": "code",
   "execution_count": 8,
   "metadata": {
    "collapsed": true
   },
   "outputs": [],
   "source": [
    "def compute_motions(file):\n",
    "    video = skvideo.io.vread(file)\n",
    "    motions = blockMotion(video)\n",
    "    return motions"
   ]
  },
  {
   "cell_type": "code",
   "execution_count": null,
   "metadata": {
    "collapsed": false
   },
   "outputs": [
    {
     "name": "stdout",
     "output_type": "stream",
     "text": [
      "1 files/movies/Violence/football_violence__Brutal_fight_of_the_hooligans_in_Europe__CocaineBaron__ctbwtUZfhY4.avi\n",
      "1 files/movies/Violence/football_violence__A_Town_Called_Football_by_Nil_Satis__louderthanyourface__Ptvoh4L_FxY.avi\n",
      "1 files/movies/Violence/Hooligans_violence__Torcida_do_Flamengo_x_PM_na_Final_da_Copa_do_Brasil__craigrj__kK.avi\n",
      "1 files/movies/Violence/football_violence__baseball_hockey_football_soccer_violence__Zetrom69__aQ5nh4xRak0.avi\n",
      "1 files/movies/Violence/Hooligans_violence__Football_hooligans_Reading_Swansea_1993__MrSmasherlad__9I7MpDQc82k.avi\n",
      "1 files/movies/Violence/football_violence__English_Football_Hooligans_Euro_2000__MorningGlory1997__6xAQGS0fodE.avi\n",
      "1 files/movies/Violence/balcony_football_violence__British_Football_Hooligans_Mix_3__MorningGlory1997__kW23lUV6oFk.avi\n",
      "1 files/movies/Violence/football_violence__Football_Soccer_Hooligans_Movie_Scenes__mclarenfan04__KHP6fQdrFlE.avi\n"
     ]
    }
   ],
   "source": [
    "all_motions = []\n",
    "labels = []\n",
    "for i, (x, y) in enumerate(movies):\n",
    "    try:\n",
    "        motions = compute_motions(x)\n",
    "        all_motions.append(motions)\n",
    "        labels.append(y)\n",
    "        print(y, x)\n",
    "    except Exception as e:\n",
    "        print(e)\n",
    "\n",
    "all_motions = np.array(all_motions)\n",
    "labels = np.array(labels)\n",
    "np.save('all_motions', all_motions)\n",
    "np.save('labels_motion', labels)"
   ]
  },
  {
   "cell_type": "code",
   "execution_count": 5,
   "metadata": {
    "collapsed": false
   },
   "outputs": [
    {
     "name": "stdout",
     "output_type": "stream",
     "text": [
      "(247,)\n"
     ]
    }
   ],
   "source": [
    "all_motions = np.load('all_motions.npy')\n",
    "labels = np.load('labels_motions.npy')\n",
    "print(all_motions.shape)"
   ]
  },
  {
   "cell_type": "code",
   "execution_count": 6,
   "metadata": {
    "collapsed": true
   },
   "outputs": [],
   "source": [
    "def average_motions():\n",
    "    averages = []\n",
    "    for motions in all_motions:\n",
    "        average_motion = np.mean(motions, axis=0)\n",
    "        averages.append(average_motion)\n",
    "    return averages"
   ]
  },
  {
   "cell_type": "code",
   "execution_count": 7,
   "metadata": {
    "collapsed": false
   },
   "outputs": [],
   "source": [
    "def sum_motions():\n",
    "    summation = []\n",
    "    for motions in all_motions:\n",
    "        sum_motion = np.sum(motions, axis=0)\n",
    "        summation.append(sum_motion)\n",
    "    return summation"
   ]
  },
  {
   "cell_type": "code",
   "execution_count": 8,
   "metadata": {
    "collapsed": false
   },
   "outputs": [
    {
     "name": "stdout",
     "output_type": "stream",
     "text": [
      "(247, 2400)\n"
     ]
    }
   ],
   "source": [
    "features = sum_motions()\n",
    "features = np.array(features)\n",
    "print(features.shape)"
   ]
  },
  {
   "cell_type": "code",
   "execution_count": 9,
   "metadata": {
    "collapsed": false
   },
   "outputs": [
    {
     "name": "stdout",
     "output_type": "stream",
     "text": [
      "[ 0.80769231  0.84615385  0.84        0.96        0.96        0.875       0.875\n",
      "  0.625       0.75        0.79166667]\n",
      "0.833051282051\n",
      "0.0940797114709\n"
     ]
    }
   ],
   "source": [
    "features, labels = shuffle(features, labels)\n",
    "estimator = LinearSVC()\n",
    "predictions = cross_val_score(estimator, features, labels, cv=10, n_jobs=-1)\n",
    "# print(scores)\n",
    "# print(np.mean(scores))\n",
    "# print(np.std(scores))"
   ]
  },
  {
   "cell_type": "code",
   "execution_count": null,
   "metadata": {
    "collapsed": true
   },
   "outputs": [],
   "source": []
  }
 ],
 "metadata": {
  "kernelspec": {
   "display_name": "Python 3",
   "language": "python",
   "name": "python3"
  },
  "language_info": {
   "codemirror_mode": {
    "name": "ipython",
    "version": 3
   },
   "file_extension": ".py",
   "mimetype": "text/x-python",
   "name": "python",
   "nbconvert_exporter": "python",
   "pygments_lexer": "ipython3",
   "version": "3.5.3"
  }
 },
 "nbformat": 4,
 "nbformat_minor": 2
}
